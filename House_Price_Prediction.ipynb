{
  "nbformat": 4,
  "nbformat_minor": 0,
  "metadata": {
    "colab": {
      "provenance": [],
      "include_colab_link": true
    },
    "kernelspec": {
      "name": "python3",
      "display_name": "Python 3"
    },
    "language_info": {
      "name": "python"
    }
  },
  "cells": [
    {
      "cell_type": "markdown",
      "metadata": {
        "id": "view-in-github",
        "colab_type": "text"
      },
      "source": [
        "<a href=\"https://colab.research.google.com/github/SoumyajeetM/House_Prediction/blob/main/House_Price_Prediction.ipynb\" target=\"_parent\"><img src=\"https://colab.research.google.com/assets/colab-badge.svg\" alt=\"Open In Colab\"/></a>"
      ]
    },
    {
      "cell_type": "code",
      "execution_count": null,
      "metadata": {
        "id": "su5d6XT93Uwn"
      },
      "outputs": [],
      "source": [
        "import pandas as pd\n",
        "import numpy as np\n",
        "import matplotlib.pyplot as plt\n",
        "%matplotlib inline\n",
        "import seaborn as sns\n",
        "from scipy import stats\n",
        "from sklearn.model_selection import train_test_split\n",
        "from sklearn.linear_model import LinearRegression\n",
        "from sklearn.compose import ColumnTransformer\n",
        "from sklearn.pipeline import Pipeline\n",
        "from sklearn.metrics import r2_score\n",
        "from sklearn.ensemble import RandomForestRegressor\n",
        "from sklearn.ensemble import GradientBoostingRegressor\n",
        "\n",
        "data=pd.read_csv(\"train.csv\")\n",
        "data = data.drop_duplicates()\n",
        "data['POSTED_BY'] = data['POSTED_BY'].map({'Dealer':0,'Owner':1,'Builder':2})\n",
        "data.drop(columns=['BHK_OR_RK','ADDRESS'],inplace=True)\n",
        "# Define features and target variables\n",
        "X = data.drop(['TARGET(PRICE_IN_LACS)'],axis=1)\n",
        "y = data['TARGET(PRICE_IN_LACS)']\n",
        "X_train, X_test, y_train, y_test = train_test_split(X, y, test_size=0.2, random_state=42)"
      ]
    },
    {
      "cell_type": "code",
      "source": [
        "data.head()"
      ],
      "metadata": {
        "id": "XXzKHeKo3WrS"
      },
      "execution_count": null,
      "outputs": []
    },
    {
      "cell_type": "code",
      "source": [
        "rd=RandomForestRegressor()\n",
        "rd.fit(X_train,y_train)\n",
        "y_pred=rd.predict(X_test)\n",
        "# Calculate the coefficient of determination (R^2 score)\n",
        "r2 = r2_score(y_test, y_pred)\n",
        "print(f\"Random Forest R^2 Score: {r2:.2f}\")\n",
        "\n",
        "model=LinearRegression()\n",
        "model.fit(X_train, y_train)\n",
        "y_pred = model.predict(X_test)\n",
        "# Calculate the coefficient of determination (R^2 score)\n",
        "r2 = r2_score(y_test, y_pred)\n",
        "print(f\"Linear Regression R^2 Score: {r2:.2f}\")\n",
        "\n",
        "gd=GradientBoostingRegressor()\n",
        "gd.fit(X_train,y_train)\n",
        "y_pred=gd.predict(X_test)\n",
        "# Calculate the coefficient of determination (R^2 score)\n",
        "r2 = r2_score(y_test, y_pred)\n",
        "print(f\"Gradient Boosting R^2 Score: {r2:.2f}\")"
      ],
      "metadata": {
        "colab": {
          "base_uri": "https://localhost:8080/"
        },
        "id": "1mc81-NK3XIS",
        "outputId": "a48d1e1e-3f02-4095-cc48-9d23d989ae04"
      },
      "execution_count": null,
      "outputs": [
        {
          "output_type": "stream",
          "name": "stdout",
          "text": [
            "Random Forest R^2 Score: 0.94\n",
            "Linear Regression R^2 Score: 0.33\n",
            "Gradient Boosting R^2 Score: 0.95\n"
          ]
        }
      ]
    }
  ]
}